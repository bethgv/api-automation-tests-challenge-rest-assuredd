{
  "nbformat": 4,
  "nbformat_minor": 0,
  "metadata": {
    "colab": {
      "provenance": [],
      "authorship_tag": "ABX9TyOI5f3OGDZ1QCjsNPMCoa+0",
      "include_colab_link": true
    },
    "kernelspec": {
      "name": "python3",
      "display_name": "Python 3"
    },
    "language_info": {
      "name": "python"
    }
  },
  "cells": [
    {
      "cell_type": "markdown",
      "metadata": {
        "id": "view-in-github",
        "colab_type": "text"
      },
      "source": [
        "<a href=\"https://colab.research.google.com/github/bethgv/api-automation-tests-challenge-rest-assuredd/blob/main/Untitled2.ipynb\" target=\"_parent\"><img src=\"https://colab.research.google.com/assets/colab-badge.svg\" alt=\"Open In Colab\"/></a>"
      ]
    },
    {
      "cell_type": "code",
      "execution_count": 2,
      "metadata": {
        "colab": {
          "base_uri": "https://localhost:8080/"
        },
        "id": "ezxo7xdnN7lR",
        "outputId": "7adf4f5e-1734-43ec-fee8-09d5dea9166b"
      },
      "outputs": [
        {
          "output_type": "stream",
          "name": "stdout",
          "text": [
            "informe a primeira nota: 5\n",
            "informe a segunda nota: 6\n",
            "A media calculada para as notas  5.0 e 6.0 foi 5.5\n",
            "reprovado\n"
          ]
        }
      ],
      "source": [
        "#Média aritmética de duas notas\n",
        "n1=float(input('informe a primeira nota: '))\n",
        "n2=float(input('informe a segunda nota: '))\n",
        "soma=n1+n2\n",
        "media=soma/2\n",
        "print('A media calculada para as notas ', n1, 'e', n2, 'foi', media)\n",
        "if(media<7):print('reprovado')\n",
        "if(media>=7):print('aprovado', 'e', 'parabens')6"
      ]
    }
  ]
}